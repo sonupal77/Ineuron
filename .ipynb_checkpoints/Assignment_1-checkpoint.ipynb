{
 "cells": [
  {
   "cell_type": "raw",
   "metadata": {},
   "source": [
    "Answer 1 : (a) * = Expression\n",
    "           (b) 'hello' = Value\n",
    "           (c) -87.8 = Value\n",
    "           (d) - = Expression\n",
    "           (e) / = Expression\n",
    "           (f) + = Expression\n",
    "           (g) 6 = Value"
   ]
  },
  {
   "cell_type": "raw",
   "metadata": {},
   "source": [
    "Answer 2 : Variable - It is used for store information\n",
    "           String - It is a type of information that store in variable. It can be written in '' or \"\""
   ]
  },
  {
   "cell_type": "raw",
   "metadata": {},
   "source": [
    "Answer 3 : Three different data types are:\n",
    "           (a) Integer - It is a number which does not have any decimal value. eg- 6,7,100\n",
    "           (b) Float - It is a number which contain decimal value. eg- 4.5, 12.0\n",
    "           (c) String - It is a collection of characters. eg- 'hello'"
   ]
  },
  {
   "cell_type": "raw",
   "metadata": {},
   "source": [
    "Answer 4 : Expression is made of values, variables, operator and constant. It is used to convert the expression into valuable              result  "
   ]
  },
  {
   "cell_type": "raw",
   "metadata": {},
   "source": [
    "Answer 5 : Expression - It is made of values, variables, operator and constant. It is used to convert the expression into                  valuable result \n",
    "           Statement - It can contain zero or more expression.  "
   ]
  },
  {
   "cell_type": "raw",
   "metadata": {},
   "source": [
    "Answer 6 : bacon = 23"
   ]
  },
  {
   "cell_type": "raw",
   "metadata": {},
   "source": [
    "Answer 7 : spamspamspam\n",
    "           spamspamspam"
   ]
  },
  {
   "cell_type": "raw",
   "metadata": {},
   "source": [
    "Answer 8 : Eggs a valid variable name while 100 is invalid variable name because variable name start from alphabet or                      underscore(_). "
   ]
  },
  {
   "cell_type": "raw",
   "metadata": {},
   "source": [
    "Answer 9 : The functions can be used to get the integer, floating-point number, or string version of a value are int(),                    float(), str()"
   ]
  },
  {
   "cell_type": "raw",
   "metadata": {},
   "source": [
    "Answer 10 : This function gives an error because string can be concate only with string. If you concate int or float with                   string it throws an error. "
   ]
  }
 ],
 "metadata": {
  "kernelspec": {
   "display_name": "Python 3",
   "language": "python",
   "name": "python3"
  },
  "language_info": {
   "codemirror_mode": {
    "name": "ipython",
    "version": 3
   },
   "file_extension": ".py",
   "mimetype": "text/x-python",
   "name": "python",
   "nbconvert_exporter": "python",
   "pygments_lexer": "ipython3",
   "version": "3.8.3"
  }
 },
 "nbformat": 4,
 "nbformat_minor": 4
}
